{
  "nbformat": 4,
  "nbformat_minor": 0,
  "metadata": {
    "colab": {
      "name": "Copy of MakeMolecules.ipynb",
      "provenance": [],
      "collapsed_sections": [],
      "authorship_tag": "ABX9TyNmT/fEFymP99JiYOkzUCg4",
      "include_colab_link": true
    },
    "kernelspec": {
      "name": "python3",
      "display_name": "Python 3"
    },
    "language_info": {
      "name": "python"
    }
  },
  "cells": [
    {
      "cell_type": "markdown",
      "metadata": {
        "id": "view-in-github",
        "colab_type": "text"
      },
      "source": [
        "<a href=\"https://colab.research.google.com/github/arronelab/makeMolecules/blob/main/notebook/MakeMolecules.ipynb\" target=\"_parent\"><img src=\"https://colab.research.google.com/assets/colab-badge.svg\" alt=\"Open In Colab\"/></a>"
      ]
    },
    {
      "cell_type": "code",
      "execution_count": 3,
      "metadata": {
        "id": "MrB1iAM_iJN3",
        "colab": {
          "base_uri": "https://localhost:8080/"
        },
        "outputId": "6e481fb1-6ab7-4cfa-96e9-67d0a9067d81"
      },
      "outputs": [
        {
          "output_type": "stream",
          "name": "stdout",
          "text": [
            "/content\n",
            "Cloning into 'makeMolecules'...\n",
            "remote: Enumerating objects: 132, done.\u001b[K\n",
            "remote: Counting objects: 100% (132/132), done.\u001b[K\n",
            "remote: Compressing objects: 100% (101/101), done.\u001b[K\n",
            "remote: Total 132 (delta 28), reused 113 (delta 20), pack-reused 0\u001b[K\n",
            "Receiving objects: 100% (132/132), 1.54 MiB | 6.34 MiB/s, done.\n",
            "Resolving deltas: 100% (28/28), done.\n",
            "/content/makeMolecules\n"
          ]
        },
        {
          "output_type": "execute_result",
          "data": {
            "text/plain": [
              ""
            ]
          },
          "metadata": {},
          "execution_count": 3
        }
      ],
      "source": [
        "#@title Clone Repo and Compile { display-mode: \"form\" }\n",
        "\n",
        "#@markdown Please execute this cell by pressing the *Play* button on \n",
        "#@markdown the left.\n",
        "%cd /content/\n",
        "%shell rm -rf makeMolecules\n",
        "!git clone https://github.com/arronelab/makeMolecules.git makeMolecules\n",
        "%cd makeMolecules/\n",
        "%shell sh makeFileFinalPrediction.sh"
      ]
    },
    {
      "cell_type": "code",
      "source": [
        "#@title Install Requirements { display-mode: \"form\" }\n",
        "\n",
        "#@markdown **Note**: This installs the software on the Colab \n",
        "#@markdown notebook in the cloud and not on your computer.\n",
        "!pip install Bio\n",
        "\n",
        "import urllib.request\n",
        "import os\n",
        "import sys\n",
        "import re\n",
        "import json\n",
        "import numpy as np\n",
        "import pandas as pd\n",
        "import ast\n",
        "from Bio import PDB, SeqIO\n",
        "from Bio.SeqUtils import seq1 \n",
        "from google.colab import files\n",
        "import matplotlib.pyplot as plt"
      ],
      "metadata": {
        "id": "1dizgEY8jWoL",
        "colab": {
          "base_uri": "https://localhost:8080/"
        },
        "outputId": "37cb63bb-2b39-4e56-cf86-7824f00e79a6"
      },
      "execution_count": 9,
      "outputs": [
        {
          "output_type": "stream",
          "name": "stdout",
          "text": [
            "Requirement already satisfied: Bio in /usr/local/lib/python3.7/dist-packages (1.3.6)\n",
            "Requirement already satisfied: mygene in /usr/local/lib/python3.7/dist-packages (from Bio) (3.2.2)\n",
            "Requirement already satisfied: requests in /usr/local/lib/python3.7/dist-packages (from Bio) (2.23.0)\n",
            "Requirement already satisfied: biopython>=1.79 in /usr/local/lib/python3.7/dist-packages (from Bio) (1.79)\n",
            "Requirement already satisfied: tqdm in /usr/local/lib/python3.7/dist-packages (from Bio) (4.63.0)\n",
            "Requirement already satisfied: numpy in /usr/local/lib/python3.7/dist-packages (from biopython>=1.79->Bio) (1.21.5)\n",
            "Requirement already satisfied: biothings-client>=0.2.6 in /usr/local/lib/python3.7/dist-packages (from mygene->Bio) (0.2.6)\n",
            "Requirement already satisfied: urllib3!=1.25.0,!=1.25.1,<1.26,>=1.21.1 in /usr/local/lib/python3.7/dist-packages (from requests->Bio) (1.24.3)\n",
            "Requirement already satisfied: certifi>=2017.4.17 in /usr/local/lib/python3.7/dist-packages (from requests->Bio) (2021.10.8)\n",
            "Requirement already satisfied: idna<3,>=2.5 in /usr/local/lib/python3.7/dist-packages (from requests->Bio) (2.10)\n",
            "Requirement already satisfied: chardet<4,>=3.0.2 in /usr/local/lib/python3.7/dist-packages (from requests->Bio) (3.0.4)\n"
          ]
        }
      ]
    },
    {
      "cell_type": "code",
      "source": [
        "#@title Config File { display-mode: \"form\" }\n",
        "#@markdown  First, choose a project name.\n",
        "test_name = \"test\" #@param {type:\"string\"}\n",
        "#@markdown Next, set the number of changes from the initial structure. This is changes to the whole structure, that is if you choose to make just one change, each atom that will be changed once, not just one atom.\n",
        "number_changes = 1 #@param {type:\"integer\"}\n",
        "#@markdown Finally, set the number of times you'd like to perform the test.  This is the number of output files you will get.\n",
        "number_outputs =  4#@param {type:\"integer\"}\n",
        "#@markdown Once you have set the parameters above, press the *Play* button on the left to make your config file.\n",
        "\n",
        "def write_sh_file(project_name,fit_steps,no_mols,\n",
        "                  preprocessed_data_dir = \"newFitData/human_SMARCAL1\",\n",
        "                  fingerprint_path = \"newFitData/human_SMARCAL1/fingerPrint.dat\", \n",
        "                  coords_path = \"newFitData/human_SMARCAL1/coordinates.dat\", \n",
        "                  contacts_path = None, \n",
        "                  fixed_sections_path = None                 \n",
        "                  ):\n",
        "    \"\"\"Writes the config shell script based on parameters given by the user on data upload.\n",
        "\n",
        "    Args:\n",
        "        project_name (str): [description]\n",
        "        preprocessed_data_dir (str): [description]\n",
        "        fingerprint_path (str): [description]\n",
        "        coords_path (str, optional): [description]. Defaults to None.\n",
        "        contacts_path (str, optional): [description]. Defaults to None.\n",
        "        fixed_sections_path (str, optional): [description]. Defaults to None.\n",
        "        fit_steps (int, optional): [description]. Defaults to 1000.\n",
        "\n",
        "    Returns:\n",
        "        output_filepath (str): path to the finished shell script\n",
        "    \"\"\"\n",
        "    output_filepath = project_name + '_config.sh'\n",
        "    output_dir = os.path.join(preprocessed_data_dir,project_name)\n",
        "    with open(output_filepath, 'w+') as fout:\n",
        "      fout.write('#!/bin/bash')\n",
        "      fout.write('\\nSequenceFile={}'.format(fingerprint_path))\n",
        "      if coords_path is not None:\n",
        "        fout.write('\\ninitialCoordsFile={}'.format(coords_path))\n",
        "      else:\n",
        "        fout.write('\\ninitialCoordsFile=none')\n",
        "      if contacts_path is not None:\n",
        "          fout.write('\\npairedPredictions={}'.format(contacts_path))\n",
        "      else:\n",
        "          fout.write('\\npairedPredictions=none')\n",
        "      if fixed_sections_path is not None:\n",
        "          fout.write('\\nfixedsections={}'.format(fixed_sections_path))\n",
        "      else:\n",
        "          fout.write('\\nfixedsections=none')\n",
        "        # no options for crystal symmetry or or hydro cover in prototype\n",
        "      fout.write('\\ncrystalSymmetry=none')\n",
        "      fout.write('\\nwithinMonomerHydroCover=none')\n",
        "      fout.write('\\nbetweenMonomerHydroCover=none')\n",
        "      fout.write('\\nmaxNoFitSteps={}'.format(str(fit_steps)))\n",
        "      fout.write('\\n\\nif [ ! -d {} ]; then'.format(output_dir))\n",
        "      fout.write('\\n  mkdir -p {};'.format(output_dir))\n",
        "      fout.write('\\nfi')\n",
        "      fout.write('\\n\\nfor i in {1..'+str(no_mols)+'}')\n",
        "      fout.write('\\ndo')\n",
        "      fout.write('\\n    /content/makeMolecules/predictStructure $SequenceFile '\n",
        "    \t'$initialCoordsFile $pairedPredictions $fixedsections $crystalSymmetry '\n",
        "    \t'$withinMonomerHydroCover $betweenMonomerHydroCover '\n",
        "    \t'$maxNoFitSteps /content/makeMolecules/{}/mol$i.dat'.format(output_dir))\n",
        "      fout.write('\\ndone')\n",
        "    return output_filepath\n",
        "\n",
        "if __name__ == \"__main__\":\n",
        "    write_sh_file(project_name=test_name,fit_steps=number_changes,no_mols=number_outputs)\n",
        "    "
      ],
      "metadata": {
        "id": "Bc2VUYHAntJd"
      },
      "execution_count": 5,
      "outputs": []
    },
    {
      "cell_type": "code",
      "source": [
        "#@title Make Molecules { display-mode: \"form\" }\n",
        "\n",
        "#@markdown Please execute this cell by pressing the *Play* button on \n",
        "#@markdown the left. Your outputs will be in a folder with your chosen test name, inside the newFitData/human_SMARCAL1 tree.\n",
        "outputs_dir = '/content/makeMolecules/newFitData/human_SMARCAL1/'+test_name\n",
        "!bash {test_name}_config.sh\n"
      ],
      "metadata": {
        "id": "KtPqm-Wcjpvf"
      },
      "execution_count": null,
      "outputs": []
    },
    {
      "cell_type": "code",
      "source": [
        "#@title Download Outputs { display-mode: \"form\" }\n",
        "\n",
        "#@markdown Press the *Play* button if you'd like to download your outputs in a\n",
        "#@markdown zip file.\n",
        "%cd /content/makeMolecules/newFitData/human_SMARCAL1/\n",
        "!zip -q -r {outputs_dir}.zip {test_name}\n",
        "files.download(f'{outputs_dir}.zip')\n",
        "%cd /content/makeMolecules/"
      ],
      "metadata": {
        "id": "hI_6Ue7o2juB"
      },
      "execution_count": null,
      "outputs": []
    },
    {
      "cell_type": "code",
      "source": [
        "#@title View Molecules\n",
        "def set_axes_radius(ax, origin, radius):\n",
        "    ax.set_xlim3d([origin[0] - radius, origin[0] + radius])\n",
        "    ax.set_ylim3d([origin[1] - radius, origin[1] + radius])\n",
        "    ax.set_zlim3d([origin[2] - radius, origin[2] + radius])\n",
        "\n",
        "\n",
        "def set_axes_equal(ax, zoom=1.):\n",
        "    '''\n",
        "        Make axes of 3D plot have equal scale so that spheres appear as spheres,\n",
        "        cubes as cubes, etc..  This is one possible solution to Matplotlib's\n",
        "        ax.set_aspect(\"equal\") and ax.axis(\"equal\") not working for 3D.\n",
        "        input:\n",
        "          ax:   a matplotlib axis, e.g., as output from plt.gca().\n",
        "\n",
        "    '''\n",
        "    limits = np.array([\n",
        "        ax.get_xlim3d(),\n",
        "        ax.get_ylim3d(),\n",
        "        ax.get_zlim3d(),\n",
        "    ])\n",
        "\n",
        "    origin = np.mean(limits, axis=1)\n",
        "    radius = 0.5 * np.max(np.abs(limits[:, 1] - limits[:, 0])) / zoom\n",
        "    set_axes_radius(ax, origin, radius)\n",
        "\n",
        "def view_molecule(molecule):\n",
        "    file = open(molecule) \n",
        "    lst = []\n",
        "    for line in file:\n",
        "        lst += [line.split()]\n",
        "    file.close()\n",
        "    for i in range(len(lst)-1):\n",
        "        if lst[i]:\n",
        "          for j in range(3):\n",
        "            lst[i][j] = float(lst[i][j])\n",
        "    mol = [i for i in lst[:-1] if i]\n",
        "    fig = plt.figure()\n",
        "    ax = fig.add_subplot(111, projection='3d')\n",
        "    xs = [mol[i][0] for i in range(len(mol))]\n",
        "    ys = [mol[i][1] for i in range(len(mol))]\n",
        "    zs = [mol[i][2] for i in range(len(mol))]\n",
        "    ax.plot(xs,ys,zs)\n",
        "    set_axes_equal(ax)\n",
        "    ax.grid(False)\n",
        "    ax.view_init(elev=20.,azim=-70)\n",
        "    ax.set_xticks([])\n",
        "    ax.set_yticks([])\n",
        "    ax.set_zticks([])\n",
        "    ax.axis('off')\n",
        "\n",
        "print(view_molecule('/content/makeMolecules/newFitData/human_SMARCAL1/test/mol1.dat'))"
      ],
      "metadata": {
        "colab": {
          "base_uri": "https://localhost:8080/",
          "height": 266
        },
        "id": "Uwbgtd-Y3ZVm",
        "outputId": "3d138e1d-1846-4839-edea-ad6888ac47c8"
      },
      "execution_count": 46,
      "outputs": [
        {
          "output_type": "stream",
          "name": "stdout",
          "text": [
            "None\n"
          ]
        },
        {
          "output_type": "display_data",
          "data": {
            "text/plain": [
              "<Figure size 432x288 with 1 Axes>"
            ],
            "image/png": "[encoded data removed]"
          },
          "metadata": {}
        }
      ]
    },
    {
      "cell_type": "code",
      "source": [
        ""
      ],
      "metadata": {
        "id": "lhJjL5DULf9J"
      },
      "execution_count": null,
      "outputs": []
    }
  ]
}