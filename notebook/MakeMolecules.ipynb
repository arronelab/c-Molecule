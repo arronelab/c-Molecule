{
  "nbformat": 4,
  "nbformat_minor": 0,
  "metadata": {
    "colab": {
      "name": "Copy of MakeMolecules.ipynb",
      "provenance": [],
      "collapsed_sections": [],
      "authorship_tag": "ABX9TyPDJAfQrcslLfjHaACBawh3",
      "include_colab_link": true
    },
    "kernelspec": {
      "name": "python3",
      "display_name": "Python 3"
    },
    "language_info": {
      "name": "python"
    }
  },
  "cells": [
    {
      "cell_type": "markdown",
      "metadata": {
        "id": "view-in-github",
        "colab_type": "text"
      },
      "source": [
        "<a href=\"https://colab.research.google.com/github/arronelab/makeMolecules/blob/main/notebook/MakeMolecules.ipynb\" target=\"_parent\"><img src=\"https://colab.research.google.com/assets/colab-badge.svg\" alt=\"Open In Colab\"/></a>"
      ]
    },
    {
      "cell_type": "code",
      "execution_count": null,
      "metadata": {
        "id": "MrB1iAM_iJN3"
      },
      "outputs": [],
      "source": [
        "#@title Clone Repo and Compile { display-mode: \"form\" }\n",
        "\n",
        "#@markdown Please execute this cell by pressing the *Play* button on \n",
        "#@markdown the left.\n",
        "%cd /content/\n",
        "%shell rm -rf makeMolecules\n",
        "!git clone https://github.com/arronelab/makeMolecules.git makeMolecules\n",
        "%cd makeMolecules/\n",
        "%shell sh makeFileFinalPrediction.sh"
      ]
    },
    {
      "cell_type": "code",
      "source": [
        "#@title Install Requirements { display-mode: \"form\" }\n",
        "\n",
        "#@markdown **Note**: This installs the software on the Colab \n",
        "#@markdown notebook in the cloud and not on your computer.\n",
        "!pip install Bio\n",
        "\n",
        "import urllib.request\n",
        "import os\n",
        "import sys\n",
        "import re\n",
        "import json\n",
        "import numpy as np\n",
        "import pandas as pd\n",
        "import ast\n",
        "from Bio import PDB, SeqIO\n",
        "from Bio.SeqUtils import seq1 \n",
        "from google.colab import files"
      ],
      "metadata": {
        "id": "1dizgEY8jWoL"
      },
      "execution_count": null,
      "outputs": []
    },
    {
      "cell_type": "code",
      "source": [
        "#@title Config File { display-mode: \"form\" }\n",
        "#@markdown  First, choose a project name.\n",
        "test_name = \"test\" #@param {type:\"string\"}\n",
        "#@markdown Next, set the number of changes from the initial structure. This is changes to the whole structure, that is if you choose to make just one change, each atom that will be changed once, not just one atom.\n",
        "number_changes = 1 #@param {type:\"integer\"}\n",
        "#@markdown Finally, set the number of times you'd like to perform the test.  This is the number of output files you will get.\n",
        "number_outputs =  4#@param {type:\"integer\"}\n",
        "#@markdown Once you have set the parameters above, press the *Play* button on the left to make your config file.\n",
        "\n",
        "def write_sh_file(project_name,fit_steps,no_mols,\n",
        "                  preprocessed_data_dir = \"newFitData/human_SMARCAL1\",\n",
        "                  fingerprint_path = \"newFitData/human_SMARCAL1/fingerPrint.dat\", \n",
        "                  coords_path = \"newFitData/human_SMARCAL1/coordinates.dat\", \n",
        "                  contacts_path = None, \n",
        "                  fixed_sections_path = None                 \n",
        "                  ):\n",
        "    \"\"\"Writes the config shell script based on parameters given by the user on data upload.\n",
        "\n",
        "    Args:\n",
        "        project_name (str): [description]\n",
        "        preprocessed_data_dir (str): [description]\n",
        "        fingerprint_path (str): [description]\n",
        "        coords_path (str, optional): [description]. Defaults to None.\n",
        "        contacts_path (str, optional): [description]. Defaults to None.\n",
        "        fixed_sections_path (str, optional): [description]. Defaults to None.\n",
        "        fit_steps (int, optional): [description]. Defaults to 1000.\n",
        "\n",
        "    Returns:\n",
        "        output_filepath (str): path to the finished shell script\n",
        "    \"\"\"\n",
        "    output_filepath = project_name + '_config.sh'\n",
        "    output_dir = os.path.join(preprocessed_data_dir,project_name)\n",
        "    with open(output_filepath, 'w+') as fout:\n",
        "      fout.write('#!/bin/bash')\n",
        "      fout.write('\\nSequenceFile={}'.format(fingerprint_path))\n",
        "      if coords_path is not None:\n",
        "        fout.write('\\ninitialCoordsFile={}'.format(coords_path))\n",
        "      else:\n",
        "        fout.write('\\ninitialCoordsFile=none')\n",
        "      if contacts_path is not None:\n",
        "          fout.write('\\npairedPredictions={}'.format(contacts_path))\n",
        "      else:\n",
        "          fout.write('\\npairedPredictions=none')\n",
        "      if fixed_sections_path is not None:\n",
        "          fout.write('\\nfixedsections={}'.format(fixed_sections_path))\n",
        "      else:\n",
        "          fout.write('\\nfixedsections=none')\n",
        "        # no options for crystal symmetry or or hydro cover in prototype\n",
        "      fout.write('\\ncrystalSymmetry=none')\n",
        "      fout.write('\\nwithinMonomerHydroCover=none')\n",
        "      fout.write('\\nbetweenMonomerHydroCover=none')\n",
        "      fout.write('\\nmaxNoFitSteps={}'.format(str(fit_steps)))\n",
        "      fout.write('\\n\\nif [ ! -d {} ]; then'.format(output_dir))\n",
        "      fout.write('\\n  mkdir -p {};'.format(output_dir))\n",
        "      fout.write('\\nfi')\n",
        "      fout.write('\\n\\nfor i in {1..'+str(no_mols)+'}')\n",
        "      fout.write('\\ndo')\n",
        "      fout.write('\\n    /content/makeMolecules/predictStructure $SequenceFile '\n",
        "    \t'$initialCoordsFile $pairedPredictions $fixedsections $crystalSymmetry '\n",
        "    \t'$withinMonomerHydroCover $betweenMonomerHydroCover '\n",
        "    \t'$maxNoFitSteps /content/makeMolecules/{}/mol$i.dat'.format(output_dir))\n",
        "      fout.write('\\ndone')\n",
        "    return output_filepath\n",
        "\n",
        "if __name__ == \"__main__\":\n",
        "    write_sh_file(project_name=test_name,fit_steps=number_changes,no_mols=number_outputs)\n",
        "    "
      ],
      "metadata": {
        "id": "Bc2VUYHAntJd"
      },
      "execution_count": null,
      "outputs": []
    },
    {
      "cell_type": "code",
      "source": [
        "#@title Make Molecules { display-mode: \"form\" }\n",
        "\n",
        "#@markdown Please execute this cell by pressing the *Play* button on \n",
        "#@markdown the left. Your outputs will be in a folder with your chosen test name, inside the newFitData/human_SMARCAL1 tree.\n",
        "outputs_dir = '/content/makeMolecules/newFitData/human_SMARCAL1/'+test_name\n",
        "!bash {test_name}_config.sh\n"
      ],
      "metadata": {
        "id": "KtPqm-Wcjpvf"
      },
      "execution_count": null,
      "outputs": []
    },
    {
      "cell_type": "code",
      "source": [
        "#@title Download Outputs { display-mode: \"form\" }\n",
        "\n",
        "#@markdown Press the *Play* button if you'd like to download your outputs in a\n",
        "#@markdown zip file.\n",
        "%cd /content/makeMolecules/newFitData/human_SMARCAL1/\n",
        "!zip -q -r {outputs_dir}.zip {test_name}\n",
        "files.download(f'{outputs_dir}.zip')\n",
        "%cd /content/makeMolecules/"
      ],
      "metadata": {
        "id": "hI_6Ue7o2juB"
      },
      "execution_count": null,
      "outputs": []
    }
  ]
}